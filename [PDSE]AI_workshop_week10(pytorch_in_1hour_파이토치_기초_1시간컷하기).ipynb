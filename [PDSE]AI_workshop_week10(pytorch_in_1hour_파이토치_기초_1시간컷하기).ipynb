{
  "nbformat": 4,
  "nbformat_minor": 0,
  "metadata": {
    "colab": {
      "name": "[PDSE]AI_workshop_week10(pytorch_in_1hour_파이토치_기초_1시간컷하기).ipynb",
      "provenance": [],
      "authorship_tag": "ABX9TyNlEMFPlm4DQkosnYZ54VBi",
      "include_colab_link": true
    },
    "kernelspec": {
      "name": "python3",
      "display_name": "Python 3"
    },
    "language_info": {
      "name": "python"
    }
  },
  "cells": [
    {
      "cell_type": "markdown",
      "metadata": {
        "id": "view-in-github",
        "colab_type": "text"
      },
      "source": [
        "<a href=\"https://colab.research.google.com/github/MitchellPritchett/pdse_ai_workshop/blob/main/%5BPDSE%5DAI_workshop_week10(pytorch_in_1hour_%ED%8C%8C%EC%9D%B4%ED%86%A0%EC%B9%98_%EA%B8%B0%EC%B4%88_1%EC%8B%9C%EA%B0%84%EC%BB%B7%ED%95%98%EA%B8%B0).ipynb\" target=\"_parent\"><img src=\"https://colab.research.google.com/assets/colab-badge.svg\" alt=\"Open In Colab\"/></a>"
      ]
    },
    {
      "cell_type": "markdown",
      "source": [
        "# 10주차\n",
        "이 코드는 ***파이토치 첫걸음*** 책과 교재의 오픈 소싱된 코드를 기반으로 합니다.  \n",
        "파이토치로 앞선 주차에서 공부한 내용들을 구현해보겠습니다."
      ],
      "metadata": {
        "id": "juo-QE0bD7Zi"
      }
    },
    {
      "cell_type": "markdown",
      "source": [
        "# Why Use Pytorch?\n",
        "- 넘파이로 한다고 하면, 모든 미분 식을 직접 계산하고 코드로 작성해야 합니다. ➡ 파이토치는 함수가 있습니다.\n",
        "- GPU를 통한 연산을 할 수 있습니다. 파이토치는 내부적으로 CUDA, cuDNN 이라는 API를 통해서 GPU 연산을 할 수 있고, 연산 속도 차이가 엄청 큽니다.\n",
        "    - CUDA는 엔비디아가 GPU를 통한 연산을 가능하게 만든 API 모델\n",
        "    - cuDNN은 CUDA를 이용해 딥러닝 연산을 가속해주는 라이브러리\n",
        "- 텐서플로도 GPU를 연산에 사용하는 프레임워크인데, 텐서플로는 Define and Run인 반면에 파이토치는 Define by Run\n",
        "- 자체 운영 포럼이 있어서 질문을 올리면 파이토치 개발자들이 직접 답을 달아주기도 합니다.\n"
      ],
      "metadata": {
        "id": "a0fDawRZJto0"
      }
    },
    {
      "cell_type": "markdown",
      "source": [
        "# Installation\n",
        "로컬에 설치하는 경우에는 본인 컴퓨터 사양과 운영체제에 맞게 설치를 해주시면 됩니다.\n",
        "파이토치 사용을 위해서는 파이썬 -> 쿠다 -> 쿠디엔엔 -> 파이토치 순서로 설치합니다.  \n",
        "서버를 다른 용도로 사용할 수도 있기 때문에 아나콘다의 가상환경 설정 프로그램을 이용합시다.  \n",
        "여기서는 코랩 환경을 전제하겠습니다. 코랩에는 이미 CUDA와 cuDNN, 파이토치가 깔려 있습니다.\n",
        "- 파이썬 버젼 체크 (Python version Check)\n",
        "- 파이토치 설치 (PyTorch Installation)\n",
        "- 쿠다 및 CuDNN 체크 (Cuda & CuDNN Check)"
      ],
      "metadata": {
        "id": "zcQr0Mn2KpH3"
      }
    },
    {
      "cell_type": "markdown",
      "metadata": {
        "id": "06f_Mo-IqpAK"
      },
      "source": [
        "## 1. Python Version Check\n",
        "파이썬 버젼 체크"
      ]
    },
    {
      "cell_type": "code",
      "metadata": {
        "id": "RKr8deu5qQxV"
      },
      "source": [
        ""
      ],
      "execution_count": null,
      "outputs": []
    },
    {
      "cell_type": "markdown",
      "metadata": {
        "id": "fHDAz4Y1qtQR"
      },
      "source": [
        "## 2. PyTorch Installation\n",
        "- 구글 코랩 버젼에 따라 파이토치가 설치되어 있을수도 있고 아닐 수도 있습니다.\n",
        "- 설치가 안되어 있을 경우 아래와 같은 명령어로 설치하면 됩니다.\n",
        "- !pip3 install torch torchvision"
      ]
    },
    {
      "cell_type": "code",
      "metadata": {
        "id": "MjXpmFmsoNir"
      },
      "source": [
        ""
      ],
      "execution_count": null,
      "outputs": []
    },
    {
      "cell_type": "code",
      "metadata": {
        "id": "Ca5b9q88oNu_"
      },
      "source": [
        ""
      ],
      "execution_count": null,
      "outputs": []
    },
    {
      "cell_type": "markdown",
      "metadata": {
        "id": "qI5zft-7r-G5"
      },
      "source": [
        "## 3. Cuda & cudnn Version Check\n",
        "- 파이토치를 통해 각각 몇 버젼이 설치 되어있는지 확인해줍니다."
      ]
    },
    {
      "cell_type": "code",
      "metadata": {
        "id": "SWzr0ZYuoAx3"
      },
      "source": [
        ""
      ],
      "execution_count": null,
      "outputs": []
    },
    {
      "cell_type": "markdown",
      "metadata": {
        "id": "HPs2iVjbsaHb"
      },
      "source": [
        "## 4. Command Line cuda & cudnn Check\n",
        "- 쿠다 및 CuDNN 버젼은 커맨드라인 명령어로도 확인 가능합니다."
      ]
    },
    {
      "cell_type": "code",
      "metadata": {
        "id": "rr-joKu0sGf5"
      },
      "source": [
        ""
      ],
      "execution_count": null,
      "outputs": []
    },
    {
      "cell_type": "code",
      "metadata": {
        "id": "7ZMgAzL3sPQ6"
      },
      "source": [
        ""
      ],
      "execution_count": null,
      "outputs": []
    },
    {
      "cell_type": "markdown",
      "metadata": {
        "id": "rPvgso5LuCWF"
      },
      "source": [
        "# 5. PyTorch CPU & GPU Tensor Check\n",
        "- 파이토치 텐서를 생성해봄으로써 제대로 설치 되었는지, 잘 동작하는지 확인해줍니다."
      ]
    },
    {
      "cell_type": "markdown",
      "metadata": {
        "id": "pBgm1epHwTSA"
      },
      "source": [
        "### 5-1 Create CPU tensor"
      ]
    },
    {
      "cell_type": "code",
      "metadata": {
        "id": "2nZVqGHxt_8D"
      },
      "source": [
        ""
      ],
      "execution_count": null,
      "outputs": []
    },
    {
      "cell_type": "markdown",
      "metadata": {
        "id": "kCxV8pxHwZc6"
      },
      "source": [
        "### 5-2 Allocate tensor on GPU"
      ]
    },
    {
      "cell_type": "code",
      "metadata": {
        "id": "uyDZg5BbuSe9"
      },
      "source": [
        ""
      ],
      "execution_count": null,
      "outputs": []
    },
    {
      "cell_type": "markdown",
      "metadata": {
        "id": "cKRTa76_wiGA"
      },
      "source": [
        "### 5-3 Reallocate tensor back on CPU"
      ]
    },
    {
      "cell_type": "code",
      "metadata": {
        "id": "9NIT1b6vvf8a"
      },
      "source": [
        ""
      ],
      "execution_count": null,
      "outputs": []
    },
    {
      "cell_type": "code",
      "metadata": {
        "id": "IO79CKh9DdUb"
      },
      "source": [
        ""
      ],
      "execution_count": null,
      "outputs": []
    },
    {
      "cell_type": "markdown",
      "metadata": {
        "id": "QJTsOFV5LZj1"
      },
      "source": [
        "# 선형 회귀 (Linear Regression)\n",
        "\n",
        "- 선형 관계를 가지고 있는 데이터 (Linear Data)\n",
        "- 선형 모델 (Linear Model)\n",
        "- y = 2x+3"
      ]
    },
    {
      "cell_type": "code",
      "metadata": {
        "id": "QrmW0T0nMHLQ"
      },
      "source": [
        ""
      ],
      "execution_count": null,
      "outputs": []
    },
    {
      "cell_type": "markdown",
      "metadata": {
        "id": "-7pum8kHpo4Q"
      },
      "source": [
        "## 필요한 라이브러리를 불러옵니다."
      ]
    },
    {
      "cell_type": "code",
      "metadata": {
        "id": "9l5PEorHLbLk"
      },
      "source": [
        ""
      ],
      "execution_count": null,
      "outputs": []
    },
    {
      "cell_type": "markdown",
      "metadata": {
        "id": "BLS6gONcps1j"
      },
      "source": [
        "## 데이터 생성"
      ]
    },
    {
      "cell_type": "code",
      "metadata": {
        "id": "G1gE7iPuLdl8"
      },
      "source": [
        ""
      ],
      "execution_count": null,
      "outputs": []
    },
    {
      "cell_type": "markdown",
      "metadata": {
        "id": "m95kllRxpxgj"
      },
      "source": [
        "## 데이터 시각화"
      ]
    },
    {
      "cell_type": "code",
      "metadata": {
        "id": "7TqGiPWkMQyk"
      },
      "source": [
        ""
      ],
      "execution_count": null,
      "outputs": []
    },
    {
      "cell_type": "markdown",
      "metadata": {
        "id": "vaXA1tx9p1_k"
      },
      "source": [
        "## 모델, 손실함수, 최적화 함수 설정"
      ]
    },
    {
      "cell_type": "code",
      "metadata": {
        "id": "7c2kT4dkMb6B"
      },
      "source": [
        ""
      ],
      "execution_count": null,
      "outputs": []
    },
    {
      "cell_type": "markdown",
      "metadata": {
        "id": "okLqOLTZp7hP"
      },
      "source": [
        "## 모델 학습 및 중간 확인"
      ]
    },
    {
      "cell_type": "code",
      "metadata": {
        "id": "kJbBMTscMr0n"
      },
      "source": [
        ""
      ],
      "execution_count": null,
      "outputs": []
    },
    {
      "cell_type": "markdown",
      "metadata": {
        "id": "yydtfhYEqB0e"
      },
      "source": [
        "## 학습 후 데이터와 모델 결과값 확인"
      ]
    },
    {
      "cell_type": "code",
      "metadata": {
        "id": "Keizg9-LWQhP"
      },
      "source": [
        ""
      ],
      "execution_count": null,
      "outputs": []
    },
    {
      "cell_type": "markdown",
      "metadata": {
        "id": "ERafFOhXPLnw"
      },
      "source": [
        "## 손실 그래프"
      ]
    },
    {
      "cell_type": "code",
      "metadata": {
        "id": "xpd3fxK0Mvt6"
      },
      "source": [
        ""
      ],
      "execution_count": null,
      "outputs": []
    },
    {
      "cell_type": "markdown",
      "metadata": {
        "id": "VaieW3joqI9z"
      },
      "source": [
        "## 학습 후 모델 변수 값 확인"
      ]
    },
    {
      "cell_type": "code",
      "metadata": {
        "id": "h0FdZBf_NIJX"
      },
      "source": [
        ""
      ],
      "execution_count": null,
      "outputs": []
    },
    {
      "cell_type": "markdown",
      "metadata": {
        "id": "qiVaMkwNSpCx"
      },
      "source": [
        "# 인공신경망 모델의 학습\n",
        "- y = x^2+3"
      ]
    },
    {
      "cell_type": "markdown",
      "metadata": {
        "id": "A0eJo_1TsZIw"
      },
      "source": [
        "## 필요한 라이브러리 불러오기"
      ]
    },
    {
      "cell_type": "code",
      "metadata": {
        "id": "gAIfLqxsSmrJ"
      },
      "source": [
        ""
      ],
      "execution_count": null,
      "outputs": []
    },
    {
      "cell_type": "markdown",
      "metadata": {
        "id": "BfXQ4EJ1sR5Y"
      },
      "source": [
        "## 데이터 생성"
      ]
    },
    {
      "cell_type": "code",
      "metadata": {
        "id": "OrRWI9QBsI8U"
      },
      "source": [
        ""
      ],
      "execution_count": null,
      "outputs": []
    },
    {
      "cell_type": "markdown",
      "metadata": {
        "id": "KTNOAQgwscKV"
      },
      "source": [
        "# 모델, 손실 함수, 최적화 함수 설정"
      ]
    },
    {
      "cell_type": "code",
      "metadata": {
        "id": "FJMeNlCWsJEp"
      },
      "source": [
        ""
      ],
      "execution_count": null,
      "outputs": []
    },
    {
      "cell_type": "markdown",
      "metadata": {
        "id": "Jsy40xAHsiQZ"
      },
      "source": [
        "## 모델의 학습"
      ]
    },
    {
      "cell_type": "code",
      "metadata": {
        "id": "o0jakOd3sJR4"
      },
      "source": [
        ""
      ],
      "execution_count": null,
      "outputs": []
    },
    {
      "cell_type": "markdown",
      "metadata": {
        "id": "d_F6SftPSu7v"
      },
      "source": [
        "## 손실 그래프"
      ]
    },
    {
      "cell_type": "code",
      "metadata": {
        "id": "sU4yuuC4RePA"
      },
      "source": [
        ""
      ],
      "execution_count": null,
      "outputs": []
    },
    {
      "cell_type": "markdown",
      "metadata": {
        "id": "VLhQK3fUSyUI"
      },
      "source": [
        "## 학습된 모델의 결과값과 실제 목표값의 비교"
      ]
    },
    {
      "cell_type": "code",
      "metadata": {
        "id": "PpjrdBz6_g3-"
      },
      "source": [
        ""
      ],
      "execution_count": null,
      "outputs": []
    },
    {
      "cell_type": "markdown",
      "metadata": {
        "id": "UOuZCNJbgO8M"
      },
      "source": [
        "# 컨볼루션 인공신경망 Convolutional Neural Network\n",
        "- MNIST 데이터\n",
        "- 합성곱 연산(CNN) \n",
        "- 맥스풀링(Max Pooling)\n",
        "- 완전연결 신경망(Fully Connected Network)"
      ]
    },
    {
      "cell_type": "code",
      "metadata": {
        "id": "vFXzochygZn4"
      },
      "source": [
        ""
      ],
      "execution_count": null,
      "outputs": []
    },
    {
      "cell_type": "markdown",
      "metadata": {
        "id": "ZlMbbW9BgO8O"
      },
      "source": [
        "## 1. 학습전 세팅\n",
        "### 1) 필요한 라이브러리 불러오기"
      ]
    },
    {
      "cell_type": "code",
      "metadata": {
        "id": "whIeu56bgO8P"
      },
      "source": [
        ""
      ],
      "execution_count": null,
      "outputs": []
    },
    {
      "cell_type": "markdown",
      "metadata": {
        "id": "lt5vZrEUgO8U"
      },
      "source": [
        "### 2) 하이퍼파라미터 지정"
      ]
    },
    {
      "cell_type": "code",
      "metadata": {
        "id": "fUACXvs4gO8W"
      },
      "source": [
        ""
      ],
      "execution_count": null,
      "outputs": []
    },
    {
      "cell_type": "markdown",
      "metadata": {
        "id": "m2fUKQiugO8a"
      },
      "source": [
        "## 2. 데이터\n",
        "\n",
        "### 1) 데이터 다운로드"
      ]
    },
    {
      "cell_type": "code",
      "metadata": {
        "id": "epKZyEd5gO8b"
      },
      "source": [
        ""
      ],
      "execution_count": null,
      "outputs": []
    },
    {
      "cell_type": "markdown",
      "metadata": {
        "id": "nMKE4poIgO8e"
      },
      "source": [
        "### 2) 데이터셋 체크\n",
        "- getitem을 사용해도 되고 \n",
        "- 인덱싱으로도 데이터를 확인할 수 있습니다."
      ]
    },
    {
      "cell_type": "code",
      "metadata": {
        "id": "Bb4OXGWIgO8f"
      },
      "source": [
        ""
      ],
      "execution_count": null,
      "outputs": []
    },
    {
      "cell_type": "markdown",
      "metadata": {
        "id": "QwfoDvZugO8m"
      },
      "source": [
        "### 3) DataLoader 설정\n",
        "- 사용할 데이터\n",
        "- 배치 사이즈 (batch_size)\n",
        "- 섞을지 여부 (shuffle)\n",
        "- 사용할 프로세스 개수 (num_workers)\n",
        "- 마지막에 남는 데이터의 처리 여부 (drop_last)"
      ]
    },
    {
      "cell_type": "code",
      "metadata": {
        "id": "XVXTTAtqgO8o"
      },
      "source": [
        ""
      ],
      "execution_count": null,
      "outputs": []
    },
    {
      "cell_type": "markdown",
      "metadata": {
        "id": "Tf-jvTNggO8r"
      },
      "source": [
        "## 3. 모델, 손실함수, 최적화함수\n",
        "\n",
        "### 1) CNN 모델\n",
        "\n",
        "- Sequential 에 대한 설명은 4장에 있습니다."
      ]
    },
    {
      "cell_type": "code",
      "metadata": {
        "id": "Q2gmbH3AgO8t"
      },
      "source": [
        ""
      ],
      "execution_count": null,
      "outputs": []
    },
    {
      "cell_type": "markdown",
      "metadata": {
        "id": "fDPJnQS8gO8y"
      },
      "source": [
        "### 2) 손실함수 & 최적화함수"
      ]
    },
    {
      "cell_type": "code",
      "metadata": {
        "id": "fZ56zT9PgO8y"
      },
      "source": [
        ""
      ],
      "execution_count": null,
      "outputs": []
    },
    {
      "cell_type": "markdown",
      "metadata": {
        "id": "P5DHl_cOgO82"
      },
      "source": [
        "## 4. 학습 "
      ]
    },
    {
      "cell_type": "code",
      "metadata": {
        "id": "AtsQ3UHzgO83"
      },
      "source": [
        ""
      ],
      "execution_count": null,
      "outputs": []
    },
    {
      "cell_type": "code",
      "metadata": {
        "id": "4YG6Q37ogO87"
      },
      "source": [
        ""
      ],
      "execution_count": null,
      "outputs": []
    },
    {
      "cell_type": "markdown",
      "metadata": {
        "id": "Oy_VtVa0gO8-"
      },
      "source": [
        "## 5. 학습시 손실 시각화"
      ]
    },
    {
      "cell_type": "code",
      "metadata": {
        "id": "_OZvoJA9gO9B"
      },
      "source": [
        ""
      ],
      "execution_count": null,
      "outputs": []
    },
    {
      "cell_type": "markdown",
      "metadata": {
        "id": "1pXaYCUXgO9F"
      },
      "source": [
        "## 6. 테스트 데이터 정확도 측정"
      ]
    },
    {
      "cell_type": "code",
      "metadata": {
        "id": "l3buWYkSgO9I"
      },
      "source": [
        ""
      ],
      "execution_count": null,
      "outputs": []
    }
  ]
}