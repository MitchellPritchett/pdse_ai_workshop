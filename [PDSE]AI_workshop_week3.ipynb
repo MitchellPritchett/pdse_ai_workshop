{
  "nbformat": 4,
  "nbformat_minor": 0,
  "metadata": {
    "colab": {
      "name": "[PDSE]AI_workshop-week3.ipynb",
      "provenance": [],
      "collapsed_sections": [],
      "include_colab_link": true
    },
    "kernelspec": {
      "name": "python3",
      "display_name": "Python 3"
    },
    "language_info": {
      "name": "python"
    }
  },
  "cells": [
    {
      "cell_type": "markdown",
      "metadata": {
        "id": "view-in-github",
        "colab_type": "text"
      },
      "source": [
        "<a href=\"https://colab.research.google.com/github/MitchellPritchett/pdse_ai_workshop/blob/main/%5BPDSE%5DAI_workshop_week3.ipynb\" target=\"_parent\"><img src=\"https://colab.research.google.com/assets/colab-badge.svg\" alt=\"Open In Colab\"/></a>"
      ]
    },
    {
      "cell_type": "code",
      "source": [
        "!git clone https://github.com/WegraLee/deep-learning-from-scratch.git"
      ],
      "metadata": {
        "id": "j6eWS9CAD6iC",
        "colab": {
          "base_uri": "https://localhost:8080/"
        },
        "outputId": "963bd9a7-0d2b-4eb3-f3d6-1067d548a86d"
      },
      "execution_count": null,
      "outputs": [
        {
          "output_type": "stream",
          "name": "stdout",
          "text": [
            "fatal: destination path 'deep-learning-from-scratch' already exists and is not an empty directory.\n"
          ]
        }
      ]
    },
    {
      "cell_type": "code",
      "source": [
        "cd deep-learning-from-scratch/ch03"
      ],
      "metadata": {
        "id": "wJcdf-ajESS_",
        "colab": {
          "base_uri": "https://localhost:8080/"
        },
        "outputId": "36e5a6dd-613b-4170-a25d-887cef110913"
      },
      "execution_count": null,
      "outputs": [
        {
          "output_type": "stream",
          "name": "stdout",
          "text": [
            "/content/deep-learning-from-scratch/ch03\n"
          ]
        }
      ]
    },
    {
      "cell_type": "markdown",
      "source": [
        "# 3.6 추론 구현"
      ],
      "metadata": {
        "id": "ORR_M9SEoApZ"
      }
    },
    {
      "cell_type": "code",
      "source": [
        "import sys, os\n",
        "sys.path.append(os.pardir)\n",
        "import numpy as np\n",
        "from dataset.mnist import load_mnist\n",
        "\n",
        "(X_train, y_train), (X_test, y_test) = load_mnist(flatten=True, normalize=False)"
      ],
      "metadata": {
        "id": "NmboxappE4v9",
        "colab": {
          "base_uri": "https://localhost:8080/"
        },
        "outputId": "df27d12b-7d49-48b3-a2b2-ab5b369f6cb0"
      },
      "execution_count": null,
      "outputs": [
        {
          "output_type": "stream",
          "name": "stdout",
          "text": [
            "Converting train-images-idx3-ubyte.gz to NumPy Array ...\n",
            "Done\n",
            "Converting train-labels-idx1-ubyte.gz to NumPy Array ...\n",
            "Done\n",
            "Converting t10k-images-idx3-ubyte.gz to NumPy Array ...\n",
            "Done\n",
            "Converting t10k-labels-idx1-ubyte.gz to NumPy Array ...\n",
            "Done\n",
            "Creating pickle file ...\n",
            "Done!\n"
          ]
        }
      ]
    },
    {
      "cell_type": "code",
      "source": [
        "X_train.shape"
      ],
      "metadata": {
        "id": "Dtq5XwCUFO_d",
        "colab": {
          "base_uri": "https://localhost:8080/"
        },
        "outputId": "e06c35f1-1ea6-4c18-e2cc-c4154af49ef5"
      },
      "execution_count": null,
      "outputs": [
        {
          "output_type": "execute_result",
          "data": {
            "text/plain": [
              "(60000, 784)"
            ]
          },
          "metadata": {},
          "execution_count": 5
        }
      ]
    },
    {
      "cell_type": "code",
      "source": [
        "y_train.shape"
      ],
      "metadata": {
        "id": "YN7dq98OFRRN",
        "colab": {
          "base_uri": "https://localhost:8080/"
        },
        "outputId": "13227ac8-ee70-49ed-cf67-6f5dc399f97f"
      },
      "execution_count": null,
      "outputs": [
        {
          "output_type": "execute_result",
          "data": {
            "text/plain": [
              "(60000,)"
            ]
          },
          "metadata": {},
          "execution_count": 6
        }
      ]
    },
    {
      "cell_type": "code",
      "source": [
        "X_test.shape"
      ],
      "metadata": {
        "id": "Ej2HnYGPFTk1",
        "colab": {
          "base_uri": "https://localhost:8080/"
        },
        "outputId": "c6196d7b-6cd0-4c59-d6bf-a612b4bb9ecc"
      },
      "execution_count": null,
      "outputs": [
        {
          "output_type": "execute_result",
          "data": {
            "text/plain": [
              "(10000, 784)"
            ]
          },
          "metadata": {},
          "execution_count": 7
        }
      ]
    },
    {
      "cell_type": "code",
      "source": [
        "y_test.shape"
      ],
      "metadata": {
        "id": "VzaJulNCFVQz",
        "colab": {
          "base_uri": "https://localhost:8080/"
        },
        "outputId": "a817f897-744f-4f89-8d40-200a3c7c9d08"
      },
      "execution_count": null,
      "outputs": [
        {
          "output_type": "execute_result",
          "data": {
            "text/plain": [
              "(10000,)"
            ]
          },
          "metadata": {},
          "execution_count": 8
        }
      ]
    },
    {
      "cell_type": "code",
      "execution_count": null,
      "metadata": {
        "id": "zufJX8_eDvla",
        "colab": {
          "base_uri": "https://localhost:8080/",
          "height": 319
        },
        "outputId": "32a1a511-f78b-4edb-910d-4342ddafcf92"
      },
      "outputs": [
        {
          "output_type": "stream",
          "name": "stdout",
          "text": [
            "5\n",
            "(784,)\n",
            "(28, 28)\n"
          ]
        },
        {
          "output_type": "display_data",
          "data": {
            "image/png": "[encoded data removed]",
            "text/plain": [
              "<Figure size 432x288 with 1 Axes>"
            ]
          },
          "metadata": {
            "needs_background": "light"
          }
        }
      ],
      "source": [
        "# coding: utf-8\n",
        "import sys, os\n",
        "sys.path.append(os.pardir)  # 부모 디렉터리의 파일을 가져올 수 있도록 설정\n",
        "import numpy as np\n",
        "from dataset.mnist import load_mnist\n",
        "import matplotlib.pyplot as plt\n",
        "from matplotlib.image import imread\n",
        "%matplotlib inline\n",
        "\n",
        "img = X_train[0]\n",
        "label = y_train[0]\n",
        "print(label)\n",
        "\n",
        "print(img.shape)  # (784,)\n",
        "img = img.reshape(28, 28)  # 형상을 원래 이미지의 크기로 변형\n",
        "print(img.shape)  # (28, 28)\n",
        "\n",
        "plt.imshow(img, cmap='gray')\n",
        "plt.show()"
      ]
    },
    {
      "cell_type": "code",
      "source": [
        "[0,0,0,0,1,0,0,0,0,0] --> 5"
      ],
      "metadata": {
        "id": "MqEWpBmbwUY4"
      },
      "execution_count": null,
      "outputs": []
    },
    {
      "cell_type": "code",
      "source": [
        "# 신경망 추론 구현하기\n",
        "# 매개변수는 이미 주어진 데이터를 사용한다.(sample_weight.pkl 에 저장되어 있음)\n",
        "import sys, os\n",
        "sys.path.append(os.pardir)\n",
        "from dataset.mnist import load_mnist\n",
        "import numpy as np\n",
        "import pickle\n",
        "\n",
        "# 이 함수는 추론할 데이터를 로딩합니다.\n",
        "def get_data():\n",
        "    ###############################################################################################################\n",
        "    # TO DO: 추론할 데이터 로딩하기\n",
        "    # input: \n",
        "    # output: X_test, y_test\n",
        "    # condition: 1. 데이터를 normalize 해주세요. 2. 데이터를 1차원으로 바꿔주세요. 3. 원핫인코딩은 하지 않습니다.\n",
        "    # hint: 1. load_mnist() 함수는 (train, train_label), (test, test_label) 꼴로 리턴합니다.\n",
        "    #       2. load_mnist() 함수의 파라미터로는 normalize, flatten, one_hot_label 이 있고 모두 bool 값을 가집니다.\n",
        "    ######################################### modification starts here ############################################\n",
        "    (X_train, y_train), (X_test, y_test) = load_mnist(flatten=True, normalize=True, one_hot_label=False)\n",
        "    ######################################### modification ends here ##############################################\n",
        "    return X_test, y_test"
      ],
      "metadata": {
        "id": "Yxn6XI4kGguq"
      },
      "execution_count": 11,
      "outputs": []
    },
    {
      "cell_type": "code",
      "source": [
        "# 이 함수는 이미 학습된 매개변수를 가지고 와서 신경망을 initializing 합니다.\n",
        "# DO NOT MODIFY\n",
        "def init_network():\n",
        "    with open(\"sample_weight.pkl\" , 'rb') as f:\n",
        "        network = pickle.load(f)\n",
        "    # print(\"This is sample weights:\", network) # 출력해서 신경망(매개변수) 확인하기\n",
        "    return network\n"
      ],
      "metadata": {
        "id": "N9CPJ2nvxDwb"
      },
      "execution_count": 33,
      "outputs": []
    },
    {
      "cell_type": "code",
      "source": [
        "tmp_network = init_network()"
      ],
      "metadata": {
        "id": "oyVoOZCnzrY7"
      },
      "execution_count": null,
      "outputs": []
    },
    {
      "cell_type": "code",
      "source": [
        "tmp_network['W1'].shape"
      ],
      "metadata": {
        "colab": {
          "base_uri": "https://localhost:8080/"
        },
        "id": "d-oIPyVPz0vO",
        "outputId": "16785b51-b7c2-4740-b6f6-c005c921f409"
      },
      "execution_count": 15,
      "outputs": [
        {
          "output_type": "execute_result",
          "data": {
            "text/plain": [
              "(784, 50)"
            ]
          },
          "metadata": {},
          "execution_count": 15
        }
      ]
    },
    {
      "cell_type": "code",
      "source": [
        "tmp_network['W2'].shape"
      ],
      "metadata": {
        "colab": {
          "base_uri": "https://localhost:8080/"
        },
        "id": "HHTyqo_Tz6YL",
        "outputId": "81b832f8-f669-4ef7-d0cd-bb70832855e2"
      },
      "execution_count": 16,
      "outputs": [
        {
          "output_type": "execute_result",
          "data": {
            "text/plain": [
              "(50, 100)"
            ]
          },
          "metadata": {},
          "execution_count": 16
        }
      ]
    },
    {
      "cell_type": "code",
      "source": [
        "tmp_network['W3'].shape"
      ],
      "metadata": {
        "colab": {
          "base_uri": "https://localhost:8080/"
        },
        "id": "IVAeaX7U0DeB",
        "outputId": "9d02a7dd-ec79-404a-a54f-65902b273540"
      },
      "execution_count": 19,
      "outputs": [
        {
          "output_type": "execute_result",
          "data": {
            "text/plain": [
              "(100, 10)"
            ]
          },
          "metadata": {},
          "execution_count": 19
        }
      ]
    },
    {
      "cell_type": "code",
      "source": [
        "tmp_network['b1'].shape"
      ],
      "metadata": {
        "colab": {
          "base_uri": "https://localhost:8080/"
        },
        "id": "sLRcaeWgz9GY",
        "outputId": "507322f3-0f49-4322-d6fe-f1c33b326529"
      },
      "execution_count": 17,
      "outputs": [
        {
          "output_type": "execute_result",
          "data": {
            "text/plain": [
              "(50,)"
            ]
          },
          "metadata": {},
          "execution_count": 17
        }
      ]
    },
    {
      "cell_type": "code",
      "source": [
        "tmp_network['b2'].shape"
      ],
      "metadata": {
        "colab": {
          "base_uri": "https://localhost:8080/"
        },
        "id": "vc5Bqpvbz-9O",
        "outputId": "226b8107-8792-4365-fc0c-307f83781fa6"
      },
      "execution_count": 18,
      "outputs": [
        {
          "output_type": "execute_result",
          "data": {
            "text/plain": [
              "(100,)"
            ]
          },
          "metadata": {},
          "execution_count": 18
        }
      ]
    },
    {
      "cell_type": "code",
      "source": [
        "tmp_network['b3'].shape"
      ],
      "metadata": {
        "colab": {
          "base_uri": "https://localhost:8080/"
        },
        "id": "i9pJknvm0Epr",
        "outputId": "03eb6fdd-eab4-4838-ba82-3b4d9ec7de38"
      },
      "execution_count": 20,
      "outputs": [
        {
          "output_type": "execute_result",
          "data": {
            "text/plain": [
              "(10,)"
            ]
          },
          "metadata": {},
          "execution_count": 20
        }
      ]
    },
    {
      "cell_type": "code",
      "source": [
        "# sigmoid fuction\n",
        "# DO NOT MODIFY\n",
        "def sigmoid(x):\n",
        "    return 1 / (1 + np.exp(-x))\n",
        "\n",
        "# softmax function\n",
        "# DO NOT MODIFY\n",
        "def softmax(x):\n",
        "    c = np.max(x)\n",
        "    x = x - c \n",
        "    return np.exp(x) / np.sum(np.exp(x))"
      ],
      "metadata": {
        "id": "lgnP0JhkzqIA"
      },
      "execution_count": 22,
      "outputs": []
    },
    {
      "cell_type": "code",
      "source": [
        "a1 = X_train[0].dot(tmp_network['W1']) + tmp_network['b1']\n",
        "z1 = sigmoid(a1)"
      ],
      "metadata": {
        "colab": {
          "base_uri": "https://localhost:8080/"
        },
        "id": "wyuqvPEc0nTv",
        "outputId": "499dcf8a-0196-4c37-fdee-82c626029317"
      },
      "execution_count": 23,
      "outputs": [
        {
          "output_type": "stream",
          "name": "stderr",
          "text": [
            "/usr/local/lib/python3.7/dist-packages/ipykernel_launcher.py:5: RuntimeWarning: overflow encountered in exp\n",
            "  \"\"\"\n"
          ]
        }
      ]
    },
    {
      "cell_type": "code",
      "source": [
        "X_train[0].dot(tmp_network['W1']).shape"
      ],
      "metadata": {
        "colab": {
          "base_uri": "https://localhost:8080/"
        },
        "id": "7JJ804vQ1TmP",
        "outputId": "9abf7738-e4b7-426c-9e6d-079f9b1f621f"
      },
      "execution_count": 26,
      "outputs": [
        {
          "output_type": "execute_result",
          "data": {
            "text/plain": [
              "(50,)"
            ]
          },
          "metadata": {},
          "execution_count": 26
        }
      ]
    },
    {
      "cell_type": "code",
      "source": [
        "a1.shape"
      ],
      "metadata": {
        "colab": {
          "base_uri": "https://localhost:8080/"
        },
        "id": "jeMpZm8w06a1",
        "outputId": "337af62e-c30d-4949-a6d9-af2db9732864"
      },
      "execution_count": 25,
      "outputs": [
        {
          "output_type": "execute_result",
          "data": {
            "text/plain": [
              "(50,)"
            ]
          },
          "metadata": {},
          "execution_count": 25
        }
      ]
    },
    {
      "cell_type": "code",
      "source": [
        "z1.shape"
      ],
      "metadata": {
        "colab": {
          "base_uri": "https://localhost:8080/"
        },
        "id": "QUtN1wyw03Hn",
        "outputId": "44876fc3-3735-4514-deb2-5df1784127f3"
      },
      "execution_count": 24,
      "outputs": [
        {
          "output_type": "execute_result",
          "data": {
            "text/plain": [
              "(50,)"
            ]
          },
          "metadata": {},
          "execution_count": 24
        }
      ]
    },
    {
      "cell_type": "code",
      "source": [
        "\n",
        "# 이 함수로 추론을 합니다.\n",
        "def predict(network, x):\n",
        "    ###############################################################################################################\n",
        "    # TO DO: feed forward 신경망 연산하기\n",
        "    # input: network (dict) --> {'W1': ..., 'W2': ..., 'W3': ..., 'b1': ..., 'b2': ..., 'b3': ... }\n",
        "    #        x (numpy array): 테스트할 데이터가 들어갈 자리\n",
        "    # output: y (numpy array): predicted y labels\n",
        "    # condition: 1. 3층 신경망\n",
        "    #            2. sigmoid as activation function\n",
        "    #            3. 출력층은 softmax\n",
        "    ######################################### modification starts here ############################################\n",
        "    W1, W2, W3 = network['W1'], network['W2'], network['W3']\n",
        "    b1, b2, b3 = network['b1'], network['b2'], network['b3']\n",
        "    ###\n",
        "    a1 = x.dot(W1) + b1\n",
        "    z1 = sigmoid(a1) # z1.shape 은 (50,)\n",
        "    a2 = z1.dot(W2) + b2\n",
        "    z2 = sigmoid(a2) # z2.shape (100,)\n",
        "    a3 = z2.dot(W3) + b3\n",
        "    y = softmax(a3) # y.shape (10,)\n",
        "    ######################################### modification ends here ##############################################\n",
        "    # print(\"This is the prediction for the 0th image:\", y[0])\n",
        "    return y"
      ],
      "metadata": {
        "id": "u_5RDyKjxHcy"
      },
      "execution_count": 34,
      "outputs": []
    },
    {
      "cell_type": "code",
      "source": [
        "tmp_y = [0.1, 0.2, 0.7, 0, 0, 0, 0, 0, 0, 0]\n",
        "np.max(tmp_y)"
      ],
      "metadata": {
        "colab": {
          "base_uri": "https://localhost:8080/"
        },
        "id": "FHWVAIW921wY",
        "outputId": "4cf1ec0f-699b-40d2-d70d-cba71cd36adf"
      },
      "execution_count": 28,
      "outputs": [
        {
          "output_type": "execute_result",
          "data": {
            "text/plain": [
              "0.7"
            ]
          },
          "metadata": {},
          "execution_count": 28
        }
      ]
    },
    {
      "cell_type": "code",
      "source": [
        "np.argmax(tmp_y)"
      ],
      "metadata": {
        "colab": {
          "base_uri": "https://localhost:8080/"
        },
        "id": "VXmbkIvX29pS",
        "outputId": "2162f205-020b-41c7-d605-cd0ad473c18e"
      },
      "execution_count": 29,
      "outputs": [
        {
          "output_type": "execute_result",
          "data": {
            "text/plain": [
              "2"
            ]
          },
          "metadata": {},
          "execution_count": 29
        }
      ]
    },
    {
      "cell_type": "code",
      "source": [
        "# 자 이제 사용할 함수를 모두 만들었습니다.\n",
        "# 추론을 해보겠습니다.\n",
        "\n",
        "# get_data()로 테스트 데이터를 불러옵니다.\n",
        "X_test, y_test = get_data()\n",
        "\n",
        "# 네트워크를 이니셜라이징합니다 (== 매개변수를 가지고 있는 딕셔너리를 불러옵니다)\n",
        "network = init_network()\n",
        "\n",
        "# 추론해보고 성능을 확인합니다.\n",
        "num_test = X_test.shape[0]\n",
        "num_correct = 0\n",
        "\n",
        "for i in range(num_test):\n",
        "    y = predict(network, X_test[i])\n",
        "    # y --> [0.1, 0.2, 0.7, 0, 0, 0, 0, 0, 0, 0]\n",
        "    ###############################################################################################################\n",
        "    # TO DO: accuracy 확인하기\n",
        "    # hint: 1. y는 i번째 이미지에 대한 예측값입니다. \n",
        "    #          각 인덱스는 손글씨 숫자를 의미하고 해당 원소는 해당 인덱스에 속할 확률을 의미합니다.\n",
        "    #          우리는 가장 높은 확률을 부여받은 숫자가 무엇인지 알고 싶습니다.\n",
        "    #          numpy.argmax() 메서드를 찾아보세요.\n",
        "    ######################################### modification starts here ############################################\n",
        "    y_pred = np.argmax(y)\n",
        "    # 예측한 것과 ground truth lable이 같다면, num_correct에 1 추가\n",
        "    if y_pred == y_test[i]:\n",
        "        num_correct += 1\n",
        "\n",
        "# accuracy 계산하기. 정확도 == 맞은 수 / 전체 데이터 수\n",
        "accuracy = num_correct / num_test\n",
        "    ######################################### modification ends here ##############################################\n",
        "\n",
        "# Your answer should be about 93.52%\n",
        "print(\"Accuracy:\", accuracy)"
      ],
      "metadata": {
        "id": "p48435W9QdUM",
        "colab": {
          "base_uri": "https://localhost:8080/"
        },
        "outputId": "b319373b-d334-450e-ce99-45652254c74d"
      },
      "execution_count": 36,
      "outputs": [
        {
          "output_type": "stream",
          "name": "stdout",
          "text": [
            "Accuracy: 0.9352\n"
          ]
        }
      ]
    },
    {
      "cell_type": "code",
      "source": [
        "# 지금까지 이미지를 하나씩 넣어서 추론을 해봤습니다.\n",
        "# 이제는 배치 처리를 구현해보겠습니다.\n",
        "\n",
        "# 배치 사이즈는 100으로 하겠습니다.\n",
        "# 이미지 100장을 한꺼번에 넘겨주겠다는 것입니다.\n",
        "batch_size = 100\n",
        "num_correct = 0\n",
        "\n",
        "###############################################################################################################\n",
        "# TO DO: 배치 단위로 추론하고 accuracy 계산하기\n",
        "# hint: 1. for loop을 이용해서 한번개 100개씩 끊어서 돌려보세요.\n",
        "#       2. y_pred[i] 는 i번째 이미지에 대한 예측값입니다. \n",
        "#          각 인덱스는 손글씨 숫자를 의미하고 해당 원소는 해당 인덱스에 속할 확률을 의미합니다.\n",
        "#          우리는 가장 높은 확률을 부여받은 숫자가 무엇인지 알고 싶습니다.\n",
        "#          numpy.argmax() 메서드를 찾아보세요. 100개의 결과가 한꺼번에 나오니 axis에 주의하세요!\n",
        "######################################### modification starts here ############################################\n",
        "for i in range(0, num_test, batch_size): # i --> 0, 100, 200, 300, ..., 9000\n",
        "    X_batch = X_test[i:i+batch_size] \n",
        "    y_batch_pred = predict(network, X_batch) # y_batch_pred.shape (100,10)\n",
        "    num_correct += np.sum(np.argmax(y_batch_pred, axis=1) == y_test[i:i+batch_size])\n",
        "    if i == 0:\n",
        "        print(f\"This is shape of the 0th y_batch_pred: {y_batch_pred.shape}\")\n",
        "        print(f\"This is the predicted labels of the 0th 100 images: \\n{np.argmax(y_batch_pred, axis=1)}\")\n",
        "        print(f\"This is the comparison with the ground truth label: \\n{np.argmax(y_batch_pred, axis=1) == y_test[i:i+batch_size]}\")\n",
        "        print(f\"This is the number of correct labels: {np.sum(np.argmax(y_batch_pred, axis=1) == y_test[i:i+batch_size])}\")\n",
        "\n",
        "accuracy = num_correct / num_test\n",
        "######################################### modification ends here ##############################################\n",
        "\n",
        "# Your answer should be about 93.52%\n",
        "print(\"Accuracy:\", accuracy)"
      ],
      "metadata": {
        "id": "RywEpHRDUDdO",
        "colab": {
          "base_uri": "https://localhost:8080/"
        },
        "outputId": "cffd3ee9-9a57-4061-e15e-7ba62fcc310d"
      },
      "execution_count": 42,
      "outputs": [
        {
          "output_type": "stream",
          "name": "stdout",
          "text": [
            "This is shape of the 0th y_batch_pred: (100, 10)\n",
            "This is the predicted labels of the 0th 100 images: \n",
            "[7 2 1 0 4 1 4 9 6 9 0 6 9 0 1 5 9 7 3 4 9 6 6 5 4 0 7 4 0 1 3 1 3 6 7 2 7\n",
            " 1 2 1 1 7 4 2 3 5 1 2 4 4 6 3 5 5 6 0 4 1 9 5 7 8 9 3 7 4 2 4 3 0 7 0 2 9\n",
            " 1 7 3 2 9 7 7 6 2 7 8 4 7 3 6 1 3 6 4 3 1 4 1 7 6 9]\n",
            "This is the comparison with the ground truth label: \n",
            "[ True  True  True  True  True  True  True  True False  True  True  True\n",
            "  True  True  True  True  True  True  True  True  True  True  True  True\n",
            "  True  True  True  True  True  True  True  True  True False  True  True\n",
            "  True  True  True  True  True  True  True  True  True  True  True  True\n",
            "  True  True  True  True  True  True  True  True  True  True  True  True\n",
            "  True  True  True  True  True  True False  True  True  True  True  True\n",
            "  True  True  True  True  True  True  True  True  True  True  True  True\n",
            "  True  True  True  True  True  True  True  True False  True  True  True\n",
            "  True  True  True  True]\n",
            "This is the number of correct labels: 96\n",
            "Accuracy: 0.9352\n"
          ]
        }
      ]
    },
    {
      "cell_type": "markdown",
      "source": [
        "# 4장. 신경망 학습"
      ],
      "metadata": {
        "id": "KiGj3ht_n1CG"
      }
    },
    {
      "cell_type": "code",
      "source": [
        "# 손실 함수 \n",
        "\n",
        "# 오차제곱합 함수 구현하기\n",
        "###############################################################################################################\n",
        "# TO DO: 오차제곱합 함수 구현하기\n",
        "# input: y_pred (numpy array), y_test (numpy array): one hot encoded\n",
        "# hint: numpy.sum을 사용해보세요.\n",
        "######################################### modification starts here ############################################\n",
        "def sum_squared_error(y_pred, y_test):\n",
        "    return \n",
        "######################################### modification ends here ##############################################\n",
        "\n",
        "# cross entropy loss\n",
        "###############################################################################################################\n",
        "# TO DO: CEE 함수 구현하기\n",
        "# input: y_pred (numpy array), y_test (numpy array)\n",
        "# hint: numpy.log (자연로그입니다)을 사용해보세요.\n",
        "#       delta는 log에 0이 안들어가게 해주는 요소입니다.\n",
        "######################################### modification starts here ############################################\n",
        "def sum_squared_error(y_pred, y_test):\n",
        "    delta = 1e-7 # DO NOT MODIFY\n",
        "    return \n",
        "######################################### modification ends here ##############################################"
      ],
      "metadata": {
        "id": "qTVZ-2ujn8p2"
      },
      "execution_count": null,
      "outputs": []
    },
    {
      "cell_type": "code",
      "source": [
        "# 미니배치 만들기\n",
        "###############################################################################################################\n",
        "# TO DO: 미니배치 만들어보기\n",
        "# hint: 1. numpy.random.choice(100, 10) 은 0부터 99까지의 정수에서 랜덤하게 10개를 뽑아 어레이를 리턴합니다.\n",
        "#       2. >>> A = np.array([1,2],[3,4],[4,5])\n",
        "#          >>> B = np.array([0,2])\n",
        "#          >>> A[B]\n",
        "#          array([[1, 2],\n",
        "#                 [4, 5]])\n",
        "######################################### modification starts here ############################################\n",
        "num_train = X_train.shape[0]\n",
        "batch_size = 100\n",
        "batch_mask = \n",
        "X_batch =\n",
        "y_batch = \n",
        "######################################### modification ends here ##############################################"
      ],
      "metadata": {
        "id": "__vi7XxAry4f"
      },
      "execution_count": null,
      "outputs": []
    },
    {
      "cell_type": "code",
      "source": [
        "# 이제 배치용 교차 엔트로피 오차를 구현해봅시다.\n",
        "###############################################################################################################\n",
        "# TO DO: implement cross entropy loss function for batch data\n",
        "# input: y_pred, y_test --> one hot encoded\n",
        "######################################### modification starts here ############################################\n",
        "def cross_entropy_loss(y_pred, y_test):\n",
        "    if y_pred.ndim == 1: # 1차원이면\n",
        "        y_test = y_test.reshape(1, -1)\n",
        "        y_pred = y_pred.reshape(1, -1)\n",
        "    delta = 1e-7\n",
        "    batch_size = y_pred.shape[0]\n",
        "    return \n",
        "######################################### modification ends here ##############################################\n",
        "\n",
        "###############################################################################################################\n",
        "# TO DO: implement cross entropy loss function for batch data\n",
        "# input: y_pred, y_test --> number label\n",
        "# hint: use numpy.arange()\n",
        "######################################### modification starts here ############################################\n",
        "def cross_entropy_loss(y_pred, y_test):\n",
        "    if y_pred.ndim == 1: # 1차원이면\n",
        "        y_test = y_test.reshape(1, -1)\n",
        "        y_pred = y_pred.reshape(1, -1)\n",
        "    delta = 1e-7\n",
        "    batch_size = y_pred.shape[0]\n",
        "    return \n",
        "######################################### modification ends here ##############################################"
      ],
      "metadata": {
        "id": "bCLk4G2ltfUC"
      },
      "execution_count": null,
      "outputs": []
    },
    {
      "cell_type": "code",
      "source": [
        "# numerical gradient\n",
        "\n",
        "###############################################################################################################\n",
        "# TO DO: 코드는 완성되어 있습니다. 주석을 달아보세요!\n",
        "######################################### modification starts here ############################################\n",
        "def numerical_gradient(f, x):\n",
        "    h = 1e-4 # 0.0001\n",
        "    grad = np.zeros_like(x)\n",
        "    \n",
        "    it = np.nditer(x, flags=['multi_index'], op_flags=['readwrite'])\n",
        "    while not it.finished:\n",
        "        idx = it.multi_index\n",
        "        tmp_val = x[idx]\n",
        "        x[idx] = float(tmp_val) + h\n",
        "        fxh1 = f(x)\n",
        "        \n",
        "        x[idx] = tmp_val - h \n",
        "        fxh2 = f(x) \n",
        "        grad[idx] = (fxh1 - fxh2) / (2*h)\n",
        "        \n",
        "        x[idx] = tmp_val\n",
        "        it.iternext()  \n",
        "        \n",
        "    return grad\n",
        "######################################### modification ends here ##############################################"
      ],
      "metadata": {
        "id": "uXmb4Z2tx6dm"
      },
      "execution_count": null,
      "outputs": []
    },
    {
      "cell_type": "code",
      "source": [
        "def sigmoid_grad(x):\n",
        "    return (1.0 - sigmoid(x)) * sigmoid(x)"
      ],
      "metadata": {
        "id": "xid32Ycb3Hrr"
      },
      "execution_count": null,
      "outputs": []
    }
  ]
}