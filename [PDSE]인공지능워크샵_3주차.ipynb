{
  "nbformat": 4,
  "nbformat_minor": 0,
  "metadata": {
    "colab": {
      "name": "[PDSE]인공지능워크샵-3주차.ipynb",
      "provenance": [],
      "collapsed_sections": [],
      "authorship_tag": "ABX9TyMzPNa6xKEixTkaLRindaK5",
      "include_colab_link": true
    },
    "kernelspec": {
      "name": "python3",
      "display_name": "Python 3"
    },
    "language_info": {
      "name": "python"
    }
  },
  "cells": [
    {
      "cell_type": "markdown",
      "metadata": {
        "id": "view-in-github",
        "colab_type": "text"
      },
      "source": [
        "<a href=\"https://colab.research.google.com/github/MitchellPritchett/pdse_github_tmp/blob/main/%5BPDSE%5D%EC%9D%B8%EA%B3%B5%EC%A7%80%EB%8A%A5%EC%9B%8C%ED%81%AC%EC%83%B5_3%EC%A3%BC%EC%B0%A8.ipynb\" target=\"_parent\"><img src=\"https://colab.research.google.com/assets/colab-badge.svg\" alt=\"Open In Colab\"/></a>"
      ]
    },
    {
      "cell_type": "code",
      "source": [
        "!git clone https://github.com/WegraLee/deep-learning-from-scratch.git"
      ],
      "metadata": {
        "id": "j6eWS9CAD6iC"
      },
      "execution_count": null,
      "outputs": []
    },
    {
      "cell_type": "code",
      "source": [
        "cd deep-learning-from-scratch/ch03"
      ],
      "metadata": {
        "id": "wJcdf-ajESS_"
      },
      "execution_count": null,
      "outputs": []
    },
    {
      "cell_type": "markdown",
      "source": [
        "# 3.6 추론 구현"
      ],
      "metadata": {
        "id": "ORR_M9SEoApZ"
      }
    },
    {
      "cell_type": "code",
      "source": [
        "import sys, os\n",
        "sys.path.append(os.pardir)\n",
        "import numpy as np\n",
        "from dataset.mnist import load_mnist\n",
        "\n",
        "(X_train, y_train), (X_test, y_test) = load_mnist(flatten=True, normalize=False)"
      ],
      "metadata": {
        "id": "NmboxappE4v9"
      },
      "execution_count": 9,
      "outputs": []
    },
    {
      "cell_type": "code",
      "source": [
        "X_train.shape"
      ],
      "metadata": {
        "id": "Dtq5XwCUFO_d"
      },
      "execution_count": null,
      "outputs": []
    },
    {
      "cell_type": "code",
      "source": [
        "y_train.shape"
      ],
      "metadata": {
        "id": "YN7dq98OFRRN"
      },
      "execution_count": null,
      "outputs": []
    },
    {
      "cell_type": "code",
      "source": [
        "X_test.shape"
      ],
      "metadata": {
        "id": "Ej2HnYGPFTk1"
      },
      "execution_count": null,
      "outputs": []
    },
    {
      "cell_type": "code",
      "source": [
        "y_test.shape"
      ],
      "metadata": {
        "id": "VzaJulNCFVQz"
      },
      "execution_count": null,
      "outputs": []
    },
    {
      "cell_type": "code",
      "execution_count": null,
      "metadata": {
        "id": "zufJX8_eDvla"
      },
      "outputs": [],
      "source": [
        "# coding: utf-8\n",
        "import sys, os\n",
        "sys.path.append(os.pardir)  # 부모 디렉터리의 파일을 가져올 수 있도록 설정\n",
        "import numpy as np\n",
        "from dataset.mnist import load_mnist\n",
        "from PIL import Image\n",
        "import matplotlib.pyplot as plt\n",
        "from matplotlib.image import imread\n",
        "%matplotlib inline\n",
        "\n",
        "img = X_train[0]\n",
        "label = y_train[0]\n",
        "print(label)\n",
        "\n",
        "print(img.shape)  # (784,)\n",
        "img = img.reshape(28, 28)  # 형상을 원래 이미지의 크기로 변형\n",
        "print(img.shape)  # (28, 28)\n",
        "\n",
        "plt.imshow(img, cmap='gray')\n",
        "plt.show()"
      ]
    },
    {
      "cell_type": "code",
      "source": [
        "# 신경망 추론 구현하기\n",
        "# 매개변수는 이미 주어진 데이터를 사용한다.(sample_weight.pkl 에 저장되어 있음)\n",
        "import sys, os\n",
        "sys.path.append(os.pardir)\n",
        "from dataset.mnist import load_mnist\n",
        "import numpy as np\n",
        "import pickle\n",
        "\n",
        "# 이 함수는 추론할 데이터를 로딩합니다.\n",
        "def get_data():\n",
        "    ###############################################################################################################\n",
        "    # TO DO: 추론할 데이터 로딩하기\n",
        "    # input: \n",
        "    # output: X_test, y_test\n",
        "    # condition: 1. 데이터를 normalize 해주세요. 2. 데이터를 1차원으로 바꿔주세요. 3. 원핫인코딩은 하지 않습니다.\n",
        "    # hint: 1. load_mnist() 함수는 (train, train_label), (test, test_label) 꼴로 리턴합니다.\n",
        "    #       2. load_mnist() 함수의 파라미터로는 normalize, flatten, one_hot_label 이 있고 모두 bool 값을 가집니다.\n",
        "    ######################################### modification starts here ############################################\n",
        "    (X_train, y_train), (         ) =     \n",
        "    ######################################### modification ends here ##############################################\n",
        "    return X_test, y_test\n",
        "\n",
        "# 이 함수는 이미 학습된 매개변수를 가지고 와서 신경망을 initializing 합니다.\n",
        "# DO NOT MODIFY\n",
        "def init_network():\n",
        "    with open(\"sample_weight.pkl\" , 'rb') as f:\n",
        "        network = pickle.load(f)\n",
        "    print(\"This is sample weights\": network) # 출력해서 신경망(매개변수) 확인하기\n",
        "    return network\n",
        "\n",
        "# sigmoid fuction\n",
        "# DO NOT MODIFY\n",
        "def sigmoid(x):\n",
        "    return 1 / (1 + np.exp(-x))\n",
        "\n",
        "# softmax function\n",
        "# DO NOT MODIFY\n",
        "def softmax(x):\n",
        "    c = np.max(x)\n",
        "    x = x - c \n",
        "    return np.exp(x) / np.sum(np.exp(x))\n",
        "\n",
        "# 이 함수로 추론을 합니다.\n",
        "def predict(network, x):\n",
        "    ###############################################################################################################\n",
        "    # TO DO: feed forward 신경망 연산하기\n",
        "    # input: network (dict) --> {'W1': ..., 'W2': ..., 'W3': ..., 'b1': ..., 'b2': ..., 'b3': ... }\n",
        "    #        x (numpy array): 테스트할 데이터가 들어갈 자리\n",
        "    # output: y (numpy array): predicted y labels\n",
        "    # condition: 1. 3층 신경망\n",
        "    #            2. sigmoid as activation function\n",
        "    #            3. 출력층은 softmax\n",
        "    ######################################### modification starts here ############################################\n",
        "    W1, W2, W3 = network['W1'], \n",
        "    b1, b2, b3 = \n",
        "\n",
        "    a1 = x.dot() + \n",
        "    z1 = sigmoid()\n",
        "    a2 = \n",
        "    z2 = \n",
        "    a3 = \n",
        "    y = softmax()\n",
        "    ######################################### modification ends here ##############################################\n",
        "    print(\"This is the prediction for the 0th image:\", y[0])\n",
        "    return y"
      ],
      "metadata": {
        "id": "Yxn6XI4kGguq"
      },
      "execution_count": null,
      "outputs": []
    },
    {
      "cell_type": "code",
      "source": [
        "# 자 이제 사용할 함수를 모두 만들었습니다.\n",
        "# 추론을 해보겠습니다.\n",
        "\n",
        "# get_data()로 테스트 데이터를 불러옵니다.\n",
        "X_test, y_test = get_data()\n",
        "\n",
        "# 네트워크를 이니셜라이징합니다 (== 매개변수를 가지고 있는 딕셔너리를 불러옵니다)\n",
        "network = init_network()\n",
        "\n",
        "# 추론해보고 성능을 확인합니다.\n",
        "num_test = X_test.shape[0]\n",
        "num_correct = 0\n",
        "\n",
        "for i in range(num_test):\n",
        "    y = predict(network, X_test[i])\n",
        "    ###############################################################################################################\n",
        "    # TO DO: accuracy 확인하기\n",
        "    # hint: 1. y는 i번째 이미지에 대한 예측값입니다. \n",
        "    #          각 인덱스는 손글씨 숫자를 의미하고 해당 원소는 해당 인덱스에 속할 확률을 의미합니다.\n",
        "    #          우리는 가장 높은 확률을 부여받은 숫자가 무엇인지 알고 싶습니다.\n",
        "    #          numpy.argmax() 메서드를 찾아보세요.\n",
        "    ######################################### modification starts here ############################################\n",
        "    y_pred = \n",
        "    # 예측한 것과 ground truth lable이 같다면, num_correct에 1 추가\n",
        "    if \n",
        "\n",
        "# accuracy 계산하기. 정확도 == 맞은 수 / 전체 데이터 수\n",
        "accuracy = \n",
        "    ######################################### modification ends here ##############################################\n",
        "\n",
        "# Your answer should be about 93.52%\n",
        "print(\"Accuracy:\", accuracy)"
      ],
      "metadata": {
        "id": "p48435W9QdUM"
      },
      "execution_count": null,
      "outputs": []
    },
    {
      "cell_type": "code",
      "source": [
        "# 지금까지 이미지를 하나씩 넣어서 추론을 해봤습니다.\n",
        "# 이제는 배치 처리를 구현해보겠습니다.\n",
        "\n",
        "# 배치 사이즈는 100으로 하겠습니다.\n",
        "# 이미지 100장을 한꺼번에 넘겨주겠다는 것입니다.\n",
        "batch_size = 100\n",
        "\n",
        "###############################################################################################################\n",
        "# TO DO: 배치 단위로 추론하고 accuracy 계산하기\n",
        "# hint: 1. for loop을 이용해서 한번개 100개씩 끊어서 돌려보세요.\n",
        "#       2. y_pred[i] 는 i번째 이미지에 대한 예측값입니다. \n",
        "#          각 인덱스는 손글씨 숫자를 의미하고 해당 원소는 해당 인덱스에 속할 확률을 의미합니다.\n",
        "#          우리는 가장 높은 확률을 부여받은 숫자가 무엇인지 알고 싶습니다.\n",
        "#          numpy.argmax() 메서드를 찾아보세요. 100개의 결과가 한꺼번에 나오니 axis에 주의하세요!\n",
        "######################################### modification starts here ############################################\n",
        "for i in range(0,num_test, batchsize):\n",
        "    X_batch = X_test[ ] \n",
        "    y_batch_pred = \n",
        "    num_correct +=\n",
        "\n",
        "accuracy = \n",
        "######################################### modification ends here ##############################################\n",
        "\n",
        "# Your answer should be about 93.52%\n",
        "print(\"Accuracy:\", accuracy)"
      ],
      "metadata": {
        "id": "RywEpHRDUDdO"
      },
      "execution_count": null,
      "outputs": []
    },
    {
      "cell_type": "markdown",
      "source": [
        "# 4장. 신경망 학습"
      ],
      "metadata": {
        "id": "KiGj3ht_n1CG"
      }
    },
    {
      "cell_type": "code",
      "source": [
        "# 손실 함수 \n",
        "\n",
        "# 오차제곱합 함수 구현하기\n",
        "###############################################################################################################\n",
        "# TO DO: 오차제곱합 함수 구현하기\n",
        "# input: y_pred (numpy array), y_test (numpy array): one hot encoded\n",
        "# hint: numpy.sum을 사용해보세요.\n",
        "######################################### modification starts here ############################################\n",
        "def sum_squared_error(y_pred, y_test):\n",
        "    return \n",
        "######################################### modification ends here ##############################################\n",
        "\n",
        "# cross entropy loss\n",
        "###############################################################################################################\n",
        "# TO DO: CEE 함수 구현하기\n",
        "# input: y_pred (numpy array), y_test (numpy array)\n",
        "# hint: numpy.log (자연로그입니다)을 사용해보세요.\n",
        "#       delta는 log에 0이 안들어가게 해주는 요소입니다.\n",
        "######################################### modification starts here ############################################\n",
        "def sum_squared_error(y_pred, y_test):\n",
        "    delta = 1e-7 # DO NOT MODIFY\n",
        "    return \n",
        "######################################### modification ends here ##############################################"
      ],
      "metadata": {
        "id": "qTVZ-2ujn8p2"
      },
      "execution_count": null,
      "outputs": []
    },
    {
      "cell_type": "code",
      "source": [
        "# 미니배치 만들기\n",
        "###############################################################################################################\n",
        "# TO DO: 미니배치 만들어보기\n",
        "# hint: 1. numpy.random.choice(100, 10) 은 0부터 99까지의 정수에서 랜덤하게 10개를 뽑아 어레이를 리턴합니다.\n",
        "#       2. >>> A = np.array([1,2],[3,4],[4,5])\n",
        "#          >>> B = np.array([0,2])\n",
        "#          >>> A[B]\n",
        "#          array([[1, 2],\n",
        "#                 [4, 5]])\n",
        "######################################### modification starts here ############################################\n",
        "num_train = X_train.shape[0]\n",
        "batch_size = 100\n",
        "batch_mask = \n",
        "X_batch =\n",
        "y_batch = \n",
        "######################################### modification ends here ##############################################"
      ],
      "metadata": {
        "id": "__vi7XxAry4f"
      },
      "execution_count": null,
      "outputs": []
    },
    {
      "cell_type": "code",
      "source": [
        "# 이제 배치용 교차 엔트로피 오차를 구현해봅시다.\n",
        "###############################################################################################################\n",
        "# TO DO: implement cross entropy loss function for batch data\n",
        "# input: y_pred, y_test --> one hot encoded\n",
        "######################################### modification starts here ############################################\n",
        "def cross_entropy_loss(y_pred, y_test):\n",
        "    if y_pred.ndim == 1: # 1차원이면\n",
        "        y_test = y_test.reshape(1, -1)\n",
        "        y_pred = y_pred.reshape(1, -1)\n",
        "    delta = 1e-7\n",
        "    batch_size = y_pred.shape[0]\n",
        "    return \n",
        "######################################### modification ends here ##############################################\n",
        "\n",
        "###############################################################################################################\n",
        "# TO DO: implement cross entropy loss function for batch data\n",
        "# input: y_pred, y_test --> number label\n",
        "# hint: use numpy.arange()\n",
        "######################################### modification starts here ############################################\n",
        "def cross_entropy_loss(y_pred, y_test):\n",
        "    if y_pred.ndim == 1: # 1차원이면\n",
        "        y_test = y_test.reshape(1, -1)\n",
        "        y_pred = y_pred.reshape(1, -1)\n",
        "    delta = 1e-7\n",
        "    batch_size = y_pred.shape[0]\n",
        "    return \n",
        "######################################### modification ends here ##############################################"
      ],
      "metadata": {
        "id": "bCLk4G2ltfUC"
      },
      "execution_count": null,
      "outputs": []
    },
    {
      "cell_type": "code",
      "source": [
        "# numerical gradient\n",
        "\n",
        "###############################################################################################################\n",
        "# TO DO: 코드는 완성되어 있습니다. 주석을 달아보세요!\n",
        "######################################### modification starts here ############################################\n",
        "def numerical_gradient(f, x):\n",
        "    h = 1e-4 # 0.0001\n",
        "    grad = np.zeros_like(x)\n",
        "    \n",
        "    it = np.nditer(x, flags=['multi_index'], op_flags=['readwrite'])\n",
        "    while not it.finished:\n",
        "        idx = it.multi_index\n",
        "        tmp_val = x[idx]\n",
        "        x[idx] = float(tmp_val) + h\n",
        "        fxh1 = f(x)\n",
        "        \n",
        "        x[idx] = tmp_val - h \n",
        "        fxh2 = f(x) \n",
        "        grad[idx] = (fxh1 - fxh2) / (2*h)\n",
        "        \n",
        "        x[idx] = tmp_val\n",
        "        it.iternext()  \n",
        "        \n",
        "    return grad\n",
        "######################################### modification ends here ##############################################"
      ],
      "metadata": {
        "id": "uXmb4Z2tx6dm"
      },
      "execution_count": null,
      "outputs": []
    },
    {
      "cell_type": "code",
      "source": [
        "def sigmoid_grad(x):\n",
        "    return (1.0 - sigmoid(x)) * sigmoid(x)"
      ],
      "metadata": {
        "id": "xid32Ycb3Hrr"
      },
      "execution_count": null,
      "outputs": []
    }
  ]
}