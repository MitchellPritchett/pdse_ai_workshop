{
  "nbformat": 4,
  "nbformat_minor": 0,
  "metadata": {
    "colab": {
      "name": "[PDSE]인공지능워크샵-3주차.ipynb",
      "provenance": [],
      "collapsed_sections": [],
      "authorship_tag": "ABX9TyPHtxNom3hroZPBy/iTQZin",
      "include_colab_link": true
    },
    "kernelspec": {
      "name": "python3",
      "display_name": "Python 3"
    },
    "language_info": {
      "name": "python"
    }
  },
  "cells": [
    {
      "cell_type": "markdown",
      "metadata": {
        "id": "view-in-github",
        "colab_type": "text"
      },
      "source": [
        "<a href=\"https://colab.research.google.com/github/MitchellPritchett/pdse_github_tmp/blob/main/%5BPDSE%5D%EC%9D%B8%EA%B3%B5%EC%A7%80%EB%8A%A5%EC%9B%8C%ED%81%AC%EC%83%B5_3%EC%A3%BC%EC%B0%A8.ipynb\" target=\"_parent\"><img src=\"https://colab.research.google.com/assets/colab-badge.svg\" alt=\"Open In Colab\"/></a>"
      ]
    },
    {
      "cell_type": "code",
      "source": [
        "!git clone https://github.com/WegraLee/deep-learning-from-scratch.git"
      ],
      "metadata": {
        "colab": {
          "base_uri": "https://localhost:8080/"
        },
        "id": "j6eWS9CAD6iC",
        "outputId": "f361a96a-7ac5-430b-e34c-2ad9bb1e8422"
      },
      "execution_count": 1,
      "outputs": [
        {
          "output_type": "stream",
          "name": "stdout",
          "text": [
            "Cloning into 'deep-learning-from-scratch'...\n",
            "remote: Enumerating objects: 826, done.\u001b[K\n",
            "remote: Total 826 (delta 0), reused 0 (delta 0), pack-reused 826\u001b[K\n",
            "Receiving objects: 100% (826/826), 52.21 MiB | 27.30 MiB/s, done.\n",
            "Resolving deltas: 100% (477/477), done.\n"
          ]
        }
      ]
    },
    {
      "cell_type": "code",
      "source": [
        "cd deep-learning-from-scratch/ch03"
      ],
      "metadata": {
        "colab": {
          "base_uri": "https://localhost:8080/"
        },
        "id": "wJcdf-ajESS_",
        "outputId": "9cf0c4dd-e703-41a9-8c46-232353a01e3b"
      },
      "execution_count": 6,
      "outputs": [
        {
          "output_type": "stream",
          "name": "stdout",
          "text": [
            "/content/deep-learning-from-scratch/ch03\n"
          ]
        }
      ]
    },
    {
      "cell_type": "code",
      "source": [
        "import sys, os\n",
        "sys.path.append(os.pardir)\n",
        "import numpy as np\n",
        "from dataset.mnist import load_mnist\n",
        "\n",
        "(X_train, y_train), (X_test, y_test) = load_mnist(flatten=True, normalize=False)"
      ],
      "metadata": {
        "id": "NmboxappE4v9"
      },
      "execution_count": 9,
      "outputs": []
    },
    {
      "cell_type": "code",
      "source": [
        "X_train.shape"
      ],
      "metadata": {
        "colab": {
          "base_uri": "https://localhost:8080/"
        },
        "id": "Dtq5XwCUFO_d",
        "outputId": "bba912a6-f944-4566-f5ae-c197a27af9fa"
      },
      "execution_count": 10,
      "outputs": [
        {
          "output_type": "execute_result",
          "data": {
            "text/plain": [
              "(60000, 784)"
            ]
          },
          "metadata": {},
          "execution_count": 10
        }
      ]
    },
    {
      "cell_type": "code",
      "source": [
        "y_train.shape"
      ],
      "metadata": {
        "colab": {
          "base_uri": "https://localhost:8080/"
        },
        "id": "YN7dq98OFRRN",
        "outputId": "7612e08c-fa01-404b-d537-7fff9d83c4b1"
      },
      "execution_count": 11,
      "outputs": [
        {
          "output_type": "execute_result",
          "data": {
            "text/plain": [
              "(60000,)"
            ]
          },
          "metadata": {},
          "execution_count": 11
        }
      ]
    },
    {
      "cell_type": "code",
      "source": [
        "X_test.shape"
      ],
      "metadata": {
        "colab": {
          "base_uri": "https://localhost:8080/"
        },
        "id": "Ej2HnYGPFTk1",
        "outputId": "fa218237-a8c3-4138-d246-e9505f40e16f"
      },
      "execution_count": 12,
      "outputs": [
        {
          "output_type": "execute_result",
          "data": {
            "text/plain": [
              "(10000, 784)"
            ]
          },
          "metadata": {},
          "execution_count": 12
        }
      ]
    },
    {
      "cell_type": "code",
      "source": [
        "y_test.shape"
      ],
      "metadata": {
        "colab": {
          "base_uri": "https://localhost:8080/"
        },
        "id": "VzaJulNCFVQz",
        "outputId": "59f4b41f-2663-4708-dc08-b3ba1c1a18ca"
      },
      "execution_count": 13,
      "outputs": [
        {
          "output_type": "execute_result",
          "data": {
            "text/plain": [
              "(10000,)"
            ]
          },
          "metadata": {},
          "execution_count": 13
        }
      ]
    },
    {
      "cell_type": "code",
      "execution_count": 27,
      "metadata": {
        "colab": {
          "base_uri": "https://localhost:8080/",
          "height": 321
        },
        "id": "zufJX8_eDvla",
        "outputId": "f5c65585-311a-4f00-ab85-d19b990c44d5"
      },
      "outputs": [
        {
          "output_type": "stream",
          "name": "stdout",
          "text": [
            "5\n",
            "(784,)\n",
            "(28, 28)\n"
          ]
        },
        {
          "output_type": "display_data",
          "data": {
            "image/png": "[encoded data removed]",
            "text/plain": [
              "<Figure size 432x288 with 1 Axes>"
            ]
          },
          "metadata": {
            "needs_background": "light"
          }
        }
      ],
      "source": [
        "# coding: utf-8\n",
        "import sys, os\n",
        "sys.path.append(os.pardir)  # 부모 디렉터리의 파일을 가져올 수 있도록 설정\n",
        "import numpy as np\n",
        "from dataset.mnist import load_mnist\n",
        "from PIL import Image\n",
        "import matplotlib.pyplot as plt\n",
        "from matplotlib.image import imread\n",
        "%matplotlib inline\n",
        "\n",
        "img = X_train[0]\n",
        "label = y_train[0]\n",
        "print(label)\n",
        "\n",
        "print(img.shape)  # (784,)\n",
        "img = img.reshape(28, 28)  # 형상을 원래 이미지의 크기로 변형\n",
        "print(img.shape)  # (28, 28)\n",
        "\n",
        "plt.imshow(img, cmap='gray')\n",
        "plt.show()"
      ]
    },
    {
      "cell_type": "code",
      "source": [
        "# 신경망 추론 구현하기\n",
        "# 매개변수는 이미 주어진 데이터를 사용한다.(sample_weight.pkl 에 저장되어 있음)\n",
        "import sys, os\n",
        "sys.path.append(os.pardir)\n",
        "from dataset.mnist import load_mnist\n",
        "import numpy as np\n",
        "import pickle\n",
        "\n",
        "# 이 함수는 추론할 데이터를 로딩합니다.\n",
        "def get_data():\n",
        "    ###############################################################################################################\n",
        "    # TO DO: 추론할 데이터 로딩하기\n",
        "    # input: \n",
        "    # output: X_test, y_test\n",
        "    # condition: 1. 데이터를 normalize 해주세요. 2. 데이터를 1차원으로 바꿔주세요. 3. 원핫인코딩은 하지 않습니다.\n",
        "    # hint: 1. load_mnist() 함수는 (train, train_label), (test, test_label) 꼴로 리턴합니다.\n",
        "    #       2. load_mnist() 함수의 파라미터로는 normalize, flatten, one_hot_label 이 있고 모두 bool 값을 가집니다.\n",
        "    ######################################### modification starts here ############################################\n",
        "    (X_train, y_train), (         ) =     \n",
        "    ######################################### modification ends here ##############################################\n",
        "    return X_test, y_test\n",
        "\n",
        "# 이 함수는 이미 학습된 매개변수를 가지고 와서 신경망을 initializing 합니다.\n",
        "# DO NOT MODIFY\n",
        "def init_network():\n",
        "    with open(\"sample_weight.pkl\" , 'rb') as f:\n",
        "        network = pickle.load(f)\n",
        "    print(\"This is sample weights\": network) # 출력해서 신경망(매개변수) 확인하기\n",
        "    return network\n",
        "\n",
        "# sigmoid fuction\n",
        "# DO NOT MODIFY\n",
        "def sigmoid(x):\n",
        "    return 1 / (1 + np.exp(-x))\n",
        "\n",
        "# softmax function\n",
        "# DO NOT MODIFY\n",
        "def softmax(x):\n",
        "    c = np.max(x)\n",
        "    x = x - c \n",
        "    return np.exp(x) / np.sum(np.exp(x))\n",
        "\n",
        "# 이 함수로 추론을 합니다.\n",
        "def predict(network, x):\n",
        "    ###############################################################################################################\n",
        "    # TO DO: feed forward 신경망 연산하기\n",
        "    # input: network (dict) --> {'W1': ..., 'W2': ..., 'W3': ..., 'b1': ..., 'b2': ..., 'b3': ... }\n",
        "    #        x (numpy array): 테스트할 데이터가 들어갈 자리\n",
        "    # output: y (numpy array): predicted y labels\n",
        "    # condition: 1. 3층 신경망\n",
        "    #            2. sigmoid as activation function\n",
        "    #            3. 출력층은 softmax\n",
        "    ######################################### modification starts here ############################################\n",
        "    W1, W2, W3 = network['W1'], \n",
        "    b1, b2, b3 = \n",
        "\n",
        "    a1 = x.dot() + \n",
        "    z1 = sigmoid()\n",
        "    a2 = \n",
        "    z2 = \n",
        "    a3 = \n",
        "    y = softmax()\n",
        "    ######################################### modification ends here ##############################################\n",
        "    print(\"This is the prediction for the 0th image:\", y[0])\n",
        "    return y\n",
        "\n",
        "# 이 함수로 정확도(몇 개 맞췄나)를 확인해봅니다.\n",
        "def accuracy(y_pred, y_test):\n",
        "    ###############################################################################################################\n",
        "    # TO DO: accuracy 확인하기\n",
        "    # input: y_pred (numpy array), y_test (numpy array)\n",
        "    # output: accuracy\n",
        "    # hint: 1. y_pred[i] 는 i번째 이미지에 대한 예측값입니다. \n",
        "    #          각 인덱스는 손글씨 숫자를 의미하고 해당 원소는 해당 인덱스에 속할 확률을 의미합니다.\n",
        "    #          우리는 가장 높은 확률을 부여받은 숫자가 무엇인지 알고 싶습니다.\n",
        "    #          numpy.argmax() 메서드를 찾아보세요.\n",
        "    #       2. numpy의 sum, len 혹은 더 간단하게 하려면 average 매서드를 써보세요.\n",
        "    ######################################### modification starts here ############################################\n",
        "    y_pred = np.argmax()\n",
        "\n",
        "    accuracy = np.average(y_red == y_test)\n",
        "    ######################################### modification ends here ##############################################\n",
        "    return accuracy"
      ],
      "metadata": {
        "id": "Yxn6XI4kGguq"
      },
      "execution_count": null,
      "outputs": []
    },
    {
      "cell_type": "code",
      "source": [
        "# 자 이제 사용할 함수를 모두 만들었습니다.\n",
        "# 추론을 해보겠습니다.\n",
        "\n",
        "# get_data()로 테스트 데이터를 불러옵니다.\n",
        "X_test, y_test = get_data()\n",
        "\n",
        "# 네트워크를 이니셜라이징합니다 (== 매개변수를 가지고 있는 딕셔너리를 불러옵니다)\n",
        "network = init_network()\n",
        "\n",
        "# 추론해보고 성능을 확인합니다.\n",
        "num_test = X_test.shape[0]\n",
        "num_correct = 0\n",
        "\n",
        "for i in range(num_test):\n",
        "    y = predict(network, X_test[i])\n",
        "    ###############################################################################################################\n",
        "    # TO DO: accuracy 확인하기\n",
        "    # hint: 1. y는 i번째 이미지에 대한 예측값입니다. \n",
        "    #          각 인덱스는 손글씨 숫자를 의미하고 해당 원소는 해당 인덱스에 속할 확률을 의미합니다.\n",
        "    #          우리는 가장 높은 확률을 부여받은 숫자가 무엇인지 알고 싶습니다.\n",
        "    #          numpy.argmax() 메서드를 찾아보세요.\n",
        "    ######################################### modification starts here ############################################\n",
        "    y_pred = \n",
        "    # 예측한 것과 ground truth lable이 같다면, num_correct에 1 추가\n",
        "    if \n",
        "\n",
        "# accuracy 계산하기. 정확도 == 맞은 수 / 전체 데이터 수\n",
        "accuracy = \n",
        "    ######################################### modification ends here ##############################################\n",
        "\n",
        "# Your answer should be about 93.52%\n",
        "print(\"Accuracy:\", accuracy)"
      ],
      "metadata": {
        "id": "p48435W9QdUM"
      },
      "execution_count": null,
      "outputs": []
    }
  ]
}